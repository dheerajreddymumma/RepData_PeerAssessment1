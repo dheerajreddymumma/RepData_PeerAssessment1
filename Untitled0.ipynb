{
 "metadata": {
  "name": "",
  "signature": "sha256:0171f606df8671fd1c8852d2c1d6d02a753bf6c4cf8b0444dce8cf73ee795c76"
 },
 "nbformat": 3,
 "nbformat_minor": 0,
 "worksheets": [
  {
   "cells": [
    {
     "cell_type": "code",
     "collapsed": false,
     "input": [
      "#code chef problem \n",
      "\n",
      "\n",
      "def main():\n",
      "    \n",
      "    a=input()\n",
      "    a=a%6\n",
      "    if a==0 or a-1==0 or a-3==0:\n",
      "        print \"yes\"\n",
      "    else:\n",
      "        print \"no\"\n",
      "\n",
      "if __name__=='__main__':\n",
      "    main()"
     ],
     "language": "python",
     "metadata": {},
     "outputs": []
    },
    {
     "cell_type": "code",
     "collapsed": false,
     "input": [
      "#code chef problem\n",
      "def main():\n",
      "    test_cases=input()\n",
      "    for i in range(test_cases):\n",
      "        a=raw_input()\n",
      "        s=a.split(' ')\n",
      "        s[0]=int(s[0])\n",
      "        s[1]=int(s[1])\n",
      "        a=raw_input()\n",
      "        s1=a.split(' ')\n",
      "        for k in range(s[0]):\n",
      "            s1[k]=int(s1[k])\n",
      "        count=0\n",
      "        for j in s1:\n",
      "            if j%2==0:\n",
      "                count=count+1\n",
      "        if count==s[1]:\n",
      "            print \"YES\"\n",
      "        else:\n",
      "            print \"NO\"\n",
      "\n",
      "if __name__=='__main__':\n",
      "    main()"
     ],
     "language": "python",
     "metadata": {},
     "outputs": [
      {
       "name": "stdout",
       "output_type": "stream",
       "stream": "stdout",
       "text": [
        "1\n"
       ]
      },
      {
       "name": "stdout",
       "output_type": "stream",
       "stream": "stdout",
       "text": [
        "4 0\n"
       ]
      },
      {
       "name": "stdout",
       "output_type": "stream",
       "stream": "stdout",
       "text": [
        "2 4 6 8\n"
       ]
      },
      {
       "output_type": "stream",
       "stream": "stdout",
       "text": [
        "NO\n"
       ]
      }
     ],
     "prompt_number": 4
    },
    {
     "cell_type": "code",
     "collapsed": false,
     "input": [
      "#codechef\n",
      "def main():\n",
      "    s=input()\n",
      "    for i in range(s):\n",
      "        temp=raw_input()\n",
      "        temp=temp.split(' ')\n",
      "        total=int(temp[0])\n",
      "        weight=int(temp[1])\n",
      "        arr=[]\n",
      "        for j in range(total):\n",
      "            if j==0:\n",
      "                arr.append(1)\n",
      "            else:\n",
      "                arr.append(0)\n",
      "        sp=[]\n",
      "        for j in range(total):\n",
      "            if j==0:\n",
      "                sp.append([4])\n",
      "            \n",
      "if __name__=='__main__':\n",
      "    main()"
     ],
     "language": "python",
     "metadata": {},
     "outputs": [
      {
       "name": "stdout",
       "output_type": "stream",
       "stream": "stdout",
       "text": [
        "1\n"
       ]
      },
      {
       "name": "stdout",
       "output_type": "stream",
       "stream": "stdout",
       "text": [
        "3\n"
       ]
      },
      {
       "ename": "IndexError",
       "evalue": "list index out of range",
       "output_type": "pyerr",
       "traceback": [
        "\u001b[1;31m---------------------------------------------------------------------------\u001b[0m\n\u001b[1;31mIndexError\u001b[0m                                Traceback (most recent call last)",
        "\u001b[1;32m<ipython-input-3-dad7d276c872>\u001b[0m in \u001b[0;36m<module>\u001b[1;34m()\u001b[0m\n\u001b[0;32m     19\u001b[0m \u001b[1;33m\u001b[0m\u001b[0m\n\u001b[0;32m     20\u001b[0m \u001b[1;32mif\u001b[0m \u001b[0m__name__\u001b[0m\u001b[1;33m==\u001b[0m\u001b[1;34m'__main__'\u001b[0m\u001b[1;33m:\u001b[0m\u001b[1;33m\u001b[0m\u001b[0m\n\u001b[1;32m---> 21\u001b[1;33m     \u001b[0mmain\u001b[0m\u001b[1;33m(\u001b[0m\u001b[1;33m)\u001b[0m\u001b[1;33m\u001b[0m\u001b[0m\n\u001b[0m",
        "\u001b[1;32m<ipython-input-3-dad7d276c872>\u001b[0m in \u001b[0;36mmain\u001b[1;34m()\u001b[0m\n\u001b[0;32m      6\u001b[0m         \u001b[0mtemp\u001b[0m\u001b[1;33m=\u001b[0m\u001b[0mtemp\u001b[0m\u001b[1;33m.\u001b[0m\u001b[0msplit\u001b[0m\u001b[1;33m(\u001b[0m\u001b[1;34m' '\u001b[0m\u001b[1;33m)\u001b[0m\u001b[1;33m\u001b[0m\u001b[0m\n\u001b[0;32m      7\u001b[0m         \u001b[0mtotal\u001b[0m\u001b[1;33m=\u001b[0m\u001b[0mint\u001b[0m\u001b[1;33m(\u001b[0m\u001b[0mtemp\u001b[0m\u001b[1;33m[\u001b[0m\u001b[1;36m0\u001b[0m\u001b[1;33m]\u001b[0m\u001b[1;33m)\u001b[0m\u001b[1;33m\u001b[0m\u001b[0m\n\u001b[1;32m----> 8\u001b[1;33m         \u001b[0mweight\u001b[0m\u001b[1;33m=\u001b[0m\u001b[0mint\u001b[0m\u001b[1;33m(\u001b[0m\u001b[0mtemp\u001b[0m\u001b[1;33m[\u001b[0m\u001b[1;36m1\u001b[0m\u001b[1;33m]\u001b[0m\u001b[1;33m)\u001b[0m\u001b[1;33m\u001b[0m\u001b[0m\n\u001b[0m\u001b[0;32m      9\u001b[0m         \u001b[0marr\u001b[0m\u001b[1;33m=\u001b[0m\u001b[1;33m[\u001b[0m\u001b[1;33m]\u001b[0m\u001b[1;33m\u001b[0m\u001b[0m\n\u001b[0;32m     10\u001b[0m         \u001b[1;32mfor\u001b[0m \u001b[0mj\u001b[0m \u001b[1;32min\u001b[0m \u001b[0mrange\u001b[0m\u001b[1;33m(\u001b[0m\u001b[0mtotal\u001b[0m\u001b[1;33m)\u001b[0m\u001b[1;33m:\u001b[0m\u001b[1;33m\u001b[0m\u001b[0m\n",
        "\u001b[1;31mIndexError\u001b[0m: list index out of range"
       ]
      }
     ],
     "prompt_number": 3
    },
    {
     "cell_type": "code",
     "collapsed": false,
     "input": [
      "#mission problem 2\n",
      "\n",
      "def toogle(j):\n",
      "    if j==1:\n",
      "        return 0\n",
      "    else:\n",
      "        return 1\n",
      "\n",
      "def main():\n",
      "    s=[]\n",
      "    for i in xrange(100):\n",
      "        s.append(0)\n",
      "    n=input()\n",
      "    count=1\n",
      "    for i in xrange(n):\n",
      "        p=0\n",
      "        for j in xrange(100):\n",
      "            s[p]=toogle(s[p])\n",
      "            p=(j+1)*count\n",
      "            if p>=100:\n",
      "                break\n",
      "        count+=count\n",
      "    print s\n",
      "if __name__=='__main__':\n",
      "    main()"
     ],
     "language": "python",
     "metadata": {},
     "outputs": [
      {
       "name": "stdout",
       "output_type": "stream",
       "stream": "stdout",
       "text": [
        "5\n"
       ]
      },
      {
       "output_type": "stream",
       "stream": "stdout",
       "text": [
        "[1, 1, 0, 1, 1, 1, 0, 1, 0, 1, 0, 1, 1, 1, 0, 1, 1, 1, 0, 1, 1, 1, 0, 1, 0, 1, 0, 1, 1, 1, 0, 1, 1, 1, 0, 1, 1, 1, 0, 1, 0, 1, 0, 1, 1, 1, 0, 1, 1, 1, 0, 1, 1, 1, 0, 1, 0, 1, 0, 1, 1, 1, 0, 1, 1, 1, 0, 1, 1, 1, 0, 1, 0, 1, 0, 1, 1, 1, 0, 1, 1, 1, 0, 1, 1, 1, 0, 1, 0, 1, 0, 1, 1, 1, 0, 1, 1, 1, 0, 1]\n"
       ]
      }
     ],
     "prompt_number": 50
    },
    {
     "cell_type": "code",
     "collapsed": false,
     "input": [
      "#codechef one dimensional game of life\n",
      "def main():\n",
      "    s=input()\n",
      "    for i in range(s):\n",
      "        r=raw_input()\n",
      "        \n",
      "          \n",
      "\n",
      "\n",
      "\n",
      "if __name__=='__main__':\n",
      "    main()    "
     ],
     "language": "python",
     "metadata": {},
     "outputs": [
      {
       "name": "stdout",
       "output_type": "stream",
       "stream": "stdout",
       "text": [
        "1\n"
       ]
      },
      {
       "name": "stdout",
       "output_type": "stream",
       "stream": "stdout",
       "text": [
        "10001\n"
       ]
      },
      {
       "output_type": "stream",
       "stream": "stdout",
       "text": [
        "10001\n"
       ]
      }
     ],
     "prompt_number": 2
    },
    {
     "cell_type": "markdown",
     "metadata": {},
     "source": [
      "#mission problem 4\n",
      "def main():\n",
      "    no=12;\n",
      "    s=raw_input()\n",
      "    r=s.split(' ')\n",
      "    for i in range(len(r)):\n",
      "        \n",
      "    \n",
      "if __name__=='__main__':\n",
      "    main()"
     ]
    },
    {
     "cell_type": "code",
     "collapsed": false,
     "input": [
      "s=input()\n",
      "for i in range(s):\n",
      "    p=map(int,raw_input().split())\n",
      "    q=map(int,raw_input().split())\n",
      "    r=map(int,raw_input().split())\n",
      "    max=0\n",
      "    for i in range(p[0]):\n",
      "        temp=r[i]/q[i]\n",
      "        if temp>max:\n",
      "            value=r[i]*(p[1]/q[i])\n",
      "            max=temp\n",
      "    print value    "
     ],
     "language": "python",
     "metadata": {},
     "outputs": [
      {
       "name": "stdout",
       "output_type": "stream",
       "stream": "stdout",
       "text": [
        "1\n"
       ]
      },
      {
       "name": "stdout",
       "output_type": "stream",
       "stream": "stdout",
       "text": [
        "3 10\n"
       ]
      },
      {
       "name": "stdout",
       "output_type": "stream",
       "stream": "stdout",
       "text": [
        "3 4 5\n"
       ]
      },
      {
       "name": "stdout",
       "output_type": "stream",
       "stream": "stdout",
       "text": [
        "4 4 5\n"
       ]
      },
      {
       "output_type": "stream",
       "stream": "stdout",
       "text": [
        "12\n"
       ]
      }
     ],
     "prompt_number": 6
    },
    {
     "cell_type": "code",
     "collapsed": false,
     "input": [
      "from fractions import gcd\n",
      "s=input()\n",
      "for i in range(s):\n",
      "    p=map(int,raw_input().split(' '))\n",
      "    q=map(int,raw_input().split(' '))\n",
      "    s=[]\n",
      "    for j in range(p[1]):\n",
      "        r=map(int,raw_input().split(' '))\n",
      "        s=q[0:r[0]-1]\n",
      "        s.extend(q[r[1]:])\n",
      "        print reduce(gcd,s)"
     ],
     "language": "python",
     "metadata": {},
     "outputs": [
      {
       "name": "stdout",
       "output_type": "stream",
       "stream": "stdout",
       "text": [
        "1\n"
       ]
      },
      {
       "name": "stdout",
       "output_type": "stream",
       "stream": "stdout",
       "text": [
        "3 3\n"
       ]
      },
      {
       "name": "stdout",
       "output_type": "stream",
       "stream": "stdout",
       "text": [
        "2 6 9\n"
       ]
      },
      {
       "name": "stdout",
       "output_type": "stream",
       "stream": "stdout",
       "text": [
        "1 1\n"
       ]
      },
      {
       "output_type": "stream",
       "stream": "stdout",
       "text": [
        "3\n"
       ]
      },
      {
       "name": "stdout",
       "output_type": "stream",
       "stream": "stdout",
       "text": [
        "2 2\n"
       ]
      },
      {
       "output_type": "stream",
       "stream": "stdout",
       "text": [
        "1\n"
       ]
      },
      {
       "name": "stdout",
       "output_type": "stream",
       "stream": "stdout",
       "text": [
        "2 3\n"
       ]
      },
      {
       "output_type": "stream",
       "stream": "stdout",
       "text": [
        "2\n"
       ]
      }
     ],
     "prompt_number": 28
    },
    {
     "cell_type": "code",
     "collapsed": false,
     "input": [
      "s=input()\n",
      "for i in range(s):\n",
      "    p=input()\n",
      "    s=[]\n",
      "    r=[]\n",
      "    temp=0\n",
      "    flag=0\n",
      "    for j in range(p):\n",
      "        s.append(map(int,raw_input().split(' ')))\n",
      "    s=sorted(s, key=lambda s: s[1])                    \n",
      "    for j in range(len(s)):\n",
      "        if j not in r:\n",
      "            for k in range(j+1,len(s)):\n",
      "                if k not in r:\n",
      "                    if s[j][1]>=s[k][0]:\n",
      "                        r.append(k)\n",
      "            temp+=1\n",
      "    print temp"
     ],
     "language": "python",
     "metadata": {},
     "outputs": [
      {
       "name": "stdout",
       "output_type": "stream",
       "stream": "stdout",
       "text": [
        "1\n"
       ]
      },
      {
       "name": "stdout",
       "output_type": "stream",
       "stream": "stdout",
       "text": [
        "3\n"
       ]
      },
      {
       "name": "stdout",
       "output_type": "stream",
       "stream": "stdout",
       "text": [
        "1 3\n"
       ]
      },
      {
       "name": "stdout",
       "output_type": "stream",
       "stream": "stdout",
       "text": [
        "2 5\n"
       ]
      },
      {
       "name": "stdout",
       "output_type": "stream",
       "stream": "stdout",
       "text": [
        "6 9\n"
       ]
      },
      {
       "output_type": "stream",
       "stream": "stdout",
       "text": [
        "2\n"
       ]
      }
     ],
     "prompt_number": 45
    },
    {
     "cell_type": "code",
     "collapsed": false,
     "input": [
      "s"
     ],
     "language": "python",
     "metadata": {},
     "outputs": [
      {
       "metadata": {},
       "output_type": "pyout",
       "prompt_number": 37,
       "text": [
        "[[1, 3], [100001, 0], [6, 9]]"
       ]
      }
     ],
     "prompt_number": 37
    },
    {
     "cell_type": "code",
     "collapsed": false,
     "input": [
      "for i in range(len(s)):\n",
      "    print i\n",
      "    if i==0:\n",
      "        s.remove(s[1])\n",
      "print s"
     ],
     "language": "python",
     "metadata": {},
     "outputs": [
      {
       "output_type": "stream",
       "stream": "stdout",
       "text": [
        "0\n",
        "1\n",
        "2\n",
        "[[1, 3], [6, 9]]\n"
       ]
      }
     ],
     "prompt_number": 39
    },
    {
     "cell_type": "code",
     "collapsed": false,
     "input": [
      "s=input()\n",
      "for i in range(s):\n",
      "    t=[]\n",
      "    r=input()\n",
      "    t.extend(map(int,raw_input().split()))\n",
      "    if sum(t)==100:\n",
      "        print \"YES\"\n",
      "    elif sum(t)<100:\n",
      "            print \"NO\"\n",
      "    else:\n",
      "        if ((sum(t)-100)/float(r)) < 1:\n",
      "            print \"YES\"\n",
      "        else:\n",
      "            print \"NO\""
     ],
     "language": "python",
     "metadata": {},
     "outputs": []
    },
    {
     "cell_type": "code",
     "collapsed": false,
     "input": [
      "p=[2,3,4,5,6]\n",
      "sum([30, 30, 30])"
     ],
     "language": "python",
     "metadata": {},
     "outputs": [
      {
       "metadata": {},
       "output_type": "pyout",
       "prompt_number": 11,
       "text": [
        "90"
       ]
      }
     ],
     "prompt_number": 11
    },
    {
     "cell_type": "code",
     "collapsed": false,
     "input": [
      "round(float(0.33),1)"
     ],
     "language": "python",
     "metadata": {},
     "outputs": [
      {
       "metadata": {},
       "output_type": "pyout",
       "prompt_number": 5,
       "text": [
        "0.3"
       ]
      }
     ],
     "prompt_number": 5
    },
    {
     "cell_type": "code",
     "collapsed": false,
     "input": [
      "from itertools import groupby    \n",
      "def root(S,K):\n",
      "    def findsubsets(S,K):\n",
      "        ans = []\n",
      "        if K in S:\n",
      "            ans += [[K]]\n",
      "        for i,s in enumerate(S):\n",
      "            if K-s>=0:\n",
      "                d = map(lambda x: [s]+x,findsubsets(S[:i]+S[i+1:],K-s))\n",
      "                if len(d):\n",
      "                    ans += d          \n",
      "        return ans\n",
      "    f = [j for j in findsubsets(S,K)]\n",
      "    #f.sort()\n",
      "    l=[]\n",
      "    for e in [key for key,g in groupby(f)]: \n",
      "        l.append(e)\n",
      "    return l\n",
      "l=input()\n",
      "for i in range(l):\n",
      "    g=map(int,raw_input().split())\n",
      "    n=input()\n",
      "    s=[];p=[];q=[];r=[]\n",
      "    [s.append(map(int,raw_input().split())) for j in range(n)]\n",
      "    for j in s:\n",
      "        p.append(j[0])\n",
      "        q.append(j[1])\n",
      "        r.append(j[2])\n",
      "    fin1=root(p,g[0])\n",
      "    fin2=root(q,g[1])\n",
      "    fin3=root(r,g[2])\n",
      "    print fin1\n",
      "    print fin2\n",
      "    print fin3"
     ],
     "language": "python",
     "metadata": {},
     "outputs": [
      {
       "name": "stdout",
       "output_type": "stream",
       "stream": "stdout",
       "text": [
        "1\n"
       ]
      },
      {
       "name": "stdout",
       "output_type": "stream",
       "stream": "stdout",
       "text": [
        "20 30 40\n"
       ]
      },
      {
       "name": "stdout",
       "output_type": "stream",
       "stream": "stdout",
       "text": [
        "3\n"
       ]
      },
      {
       "name": "stdout",
       "output_type": "stream",
       "stream": "stdout",
       "text": [
        "12 18 22\n"
       ]
      },
      {
       "name": "stdout",
       "output_type": "stream",
       "stream": "stdout",
       "text": [
        "8 12 18\n"
       ]
      },
      {
       "name": "stdout",
       "output_type": "stream",
       "stream": "stdout",
       "text": [
        "20 30 40\n"
       ]
      },
      {
       "output_type": "stream",
       "stream": "stdout",
       "text": [
        "[[20], [12, 8], [8, 12]]\n",
        "[[30], [18, 12], [12, 18]]\n",
        "[[40], [22, 18], [18, 22]]\n"
       ]
      }
     ],
     "prompt_number": 61
    },
    {
     "cell_type": "code",
     "collapsed": false,
     "input": [
      "k=[[2,3,4],[2,5,8]]"
     ],
     "language": "python",
     "metadata": {},
     "outputs": [],
     "prompt_number": 62
    },
    {
     "cell_type": "code",
     "collapsed": false,
     "input": [
      "for i in range(2):\n",
      "    k[len(k)]=k[i]\n",
      "    k[len(k)"
     ],
     "language": "python",
     "metadata": {},
     "outputs": [
      {
       "metadata": {},
       "output_type": "pyout",
       "prompt_number": 63,
       "text": [
        "[[2, 3, 4], [5, 6, 7]]"
       ]
      }
     ],
     "prompt_number": 63
    },
    {
     "cell_type": "code",
     "collapsed": false,
     "input": [
      "[4]+[2,3]"
     ],
     "language": "python",
     "metadata": {},
     "outputs": [
      {
       "metadata": {},
       "output_type": "pyout",
       "prompt_number": 52,
       "text": [
        "[4, 2, 3]"
       ]
      }
     ],
     "prompt_number": 52
    },
    {
     "cell_type": "code",
     "collapsed": false,
     "input": [
      "def finding(num):\n",
      "    for j in range(2,num):\n",
      "        if (num % j) == 0:\n",
      "            return False\n",
      "    return True\n",
      "\n",
      "def is_prime(num):\n",
      "    k=[]\n",
      "    for i in range(2,num+1):\n",
      "        if finding(i):\n",
      "            if num % i==0:\n",
      "                k.append(i)\n",
      "    return k\n",
      "\n",
      "s=int(raw_input())\n",
      "for i in xrange(s):\n",
      "    p=map(int,raw_input().split())\n",
      "    s=0\n",
      "    for j in xrange(p[0],p[1]+1):\n",
      "        l=is_prime(j)\n",
      "        if len(l)==p[2]:\n",
      "            s+=1\n",
      "    print 'Case #'+str(i+1)+': '+str(s)"
     ],
     "language": "python",
     "metadata": {},
     "outputs": [
      {
       "name": "stdout",
       "output_type": "stream",
       "stream": "stdout",
       "text": [
        "1\n"
       ]
      },
      {
       "name": "stdout",
       "output_type": "stream",
       "stream": "stdout",
       "text": [
        "5 15 2\n"
       ]
      },
      {
       "output_type": "stream",
       "stream": "stdout",
       "text": [
        "Case #1: 5\n"
       ]
      }
     ],
     "prompt_number": 40
    },
    {
     "cell_type": "code",
     "collapsed": false,
     "input": [
      "class SolitaireMancala:\n",
      "    \"\"\"\n",
      "    Simple class that implements Solitaire Mancala\n",
      "    \"\"\"\n",
      "    lis=[]\n",
      "    lis1=[]\n",
      "    def __init__(self):\n",
      "        \"\"\"\n",
      "        Create Mancala game with empty store and no houses\n",
      "        \"\"\"\n",
      "        self.lis.append(0)\n",
      "        pass\n",
      "    \n",
      "    def set_board(self, configuration):\n",
      "        \"\"\"\n",
      "        Take the list configuration of initial number of seeds for given houses\n",
      "        house zero corresponds to the store and is on right\n",
      "        houses are number in ascending order from right to left\n",
      "        \"\"\"\n",
      "        for i in range(len(configuration)-1,-1,-1):\n",
      "            self.lis1.append(configuration[i])\n",
      "        pass\n",
      "    \n",
      "    def __str__(self):\n",
      "        \"\"\"\n",
      "        Return string representation for Mancala board\n",
      "        \"\"\"\n",
      "        return \"\"\n",
      "    \n",
      "    def get_num_seeds(self, house_num):\n",
      "        \"\"\"\n",
      "        Return the number of seeds in given house on board\n",
      "        \"\"\"\n",
      "        return self.lis1[len(self.lis1)-1-house_num]\n",
      "\n",
      "    def is_game_won(self):\n",
      "        \"\"\"\n",
      "        Check to see if all houses but house zero are empty\n",
      "        \"\"\"\n",
      "        for i in range(len(self.lis1)-2,-1,-1):\n",
      "            if self.lis1[i]!=0:\n",
      "                return False\n",
      "        return True\n",
      "    \n",
      "    def is_legal_move(self, house_num):\n",
      "        \"\"\"\n",
      "        Check whether a given move is legal\n",
      "        \"\"\"\n",
      "        if self.get_num_seeds(house_num)==house_num:\n",
      "            return True\n",
      "        else:\n",
      "            return False\n",
      "\n",
      "    \n",
      "    def apply_move(self, house_num):\n",
      "        \"\"\"\n",
      "        Move all of the stones from house to lower/left houses\n",
      "        Last seed must be played in the store (house zero)\n",
      "        \"\"\"\n",
      "        s=len(self.lis1)-1-house_num\n",
      "        self.lis1[s]=0\n",
      "        for i in range(s+1,len(self.lis1)):\n",
      "            self.lis1[i]+=1\n",
      "        pass\n",
      "\n",
      "    def choose_move(self):\n",
      "        \"\"\"\n",
      "        Return the house for the next shortest legal move\n",
      "        Shortest means legal move from house closest to store\n",
      "        Note that using a longer legal move would make smaller illegal\n",
      "        If no legal move, return house zero\n",
      "        \"\"\"\n",
      "        for i in range(len(self.lis1)-2,-1,-1):\n",
      "            if self.is_legal_move(len(self.lis1)-1-i):\n",
      "                return i\n",
      "        return 0\n",
      "    \n",
      "    def plan_moves(self):\n",
      "        \"\"\"\n",
      "        Return a sequence (list) of legal moves based on the following heuristic: \n",
      "        After each move, move the seeds in the house closest to the store \n",
      "        when given a choice of legal moves\n",
      "        Not used in GUI version, only for machine testing\n",
      "        \"\"\"\n",
      "        while self.is_game_won()==False:\n",
      "            j=self.choose_move()\n",
      "            if j==0:\n",
      "                break\n",
      "            else:\n",
      "                self.apply_move(j)\n",
      "        return self.lis1\n",
      " \n",
      "\n",
      "# Create tests to check the correctness of your code\n",
      "\n",
      "def test_mancala():\n",
      "    \"\"\"\n",
      "    Test code for Solitaire Mancala\n",
      "    \"\"\"\n",
      "    \n",
      "    my_game = SolitaireMancala()\n",
      "    print \"Testing init - Computed:\", my_game.lis, \"Expected: [0]\"\n",
      "    \n",
      "    config1 = [0, 0, 1, 1, 3, 5, 0]    \n",
      "    my_game.set_board(config1)   \n",
      "    \n",
      "    print \"Testing set_board - Computed:\", str(my_game.lis1), \"Expected:\", str([0, 5, 3, 1, 1, 0, 0])\n",
      "    my_game.apply_move(my_game.choose_move())\n",
      "    my_game.apply_move(my_game.choose_move())\n",
      "    \n",
      "    print my_game.lis1\n",
      "    #print my_game.plan_moves()\n",
      "test_mancala()\n",
      "\n",
      "\n",
      "# Import GUI code once you feel your code is correct\n",
      "# import poc_mancala_gui\n",
      "# poc_mancala_gui.run_gui(SolitaireMancala())"
     ],
     "language": "python",
     "metadata": {},
     "outputs": [
      {
       "output_type": "stream",
       "stream": "stdout",
       "text": [
        "Testing init - Computed: [0] Expected: [0]\n",
        "Testing set_board - Computed: [0, 5, 3, 1, 1, 0, 0] Expected: [0, 5, 3, 1, 1, 0, 0]\n",
        "[0, 5, 3, 1, 1, 0, 2]\n"
       ]
      }
     ],
     "prompt_number": 4
    },
    {
     "cell_type": "code",
     "collapsed": false,
     "input": [
      "config1 = [0, 0, 1, 1, 3, 5, 0] "
     ],
     "language": "python",
     "metadata": {},
     "outputs": [],
     "prompt_number": 16
    },
    {
     "cell_type": "code",
     "collapsed": false,
     "input": [
      "i=0\n",
      "while i<10:\n",
      "    print i\n",
      "    i+=1\n",
      "    "
     ],
     "language": "python",
     "metadata": {},
     "outputs": [
      {
       "output_type": "stream",
       "stream": "stdout",
       "text": [
        "0\n",
        "1\n",
        "2\n",
        "3\n",
        "4\n",
        "5\n",
        "6\n",
        "7\n",
        "8\n",
        "9\n"
       ]
      }
     ],
     "prompt_number": 41
    },
    {
     "cell_type": "code",
     "collapsed": false,
     "input": [
      "config1[3]"
     ],
     "language": "python",
     "metadata": {},
     "outputs": [
      {
       "metadata": {},
       "output_type": "pyout",
       "prompt_number": 20,
       "text": [
        "1"
       ]
      }
     ],
     "prompt_number": 20
    },
    {
     "cell_type": "code",
     "collapsed": false,
     "input": [
      "\"\"\"\n",
      "Merge function for 2048 game.\n",
      "\"\"\"\n",
      "def merge(line):\n",
      "    \"\"\"\n",
      "    Function that merges a single row or column in 2048.\n",
      "    \"\"\"\n",
      "    result=[]\n",
      "    for temp in xrange(0,len(line)):\n",
      "        result.append(0)\n",
      "    var=0\n",
      "    for temp in xrange(0,len(line)):\n",
      "        if line[temp]!=0:\n",
      "            result[var]=line[temp]\n",
      "            var+=1\n",
      "    for temp in xrange(var,len(line)):\n",
      "        result[temp]=0\n",
      "    for temp in xrange(1,var):\n",
      "        if result[temp]==result[temp-1]:\n",
      "            result[temp-1]*=2\n",
      "            result[temp]=0\n",
      "    var1=0\n",
      "    for temp in xrange(0,var):\n",
      "        if result[temp]!=0:\n",
      "            result[var1]=result[temp]\n",
      "            var1+=1\n",
      "    for temp in xrange(var1,len(result)):\n",
      "        result[temp]=0\n",
      "    return result"
     ],
     "language": "python",
     "metadata": {},
     "outputs": [],
     "prompt_number": 37
    },
    {
     "cell_type": "code",
     "collapsed": false,
     "input": [
      "merge([2,0,2,4])"
     ],
     "language": "python",
     "metadata": {},
     "outputs": [
      {
       "metadata": {},
       "output_type": "pyout",
       "prompt_number": 38,
       "text": [
        "[4, 4, 0, 0]"
       ]
      }
     ],
     "prompt_number": 38
    },
    {
     "cell_type": "code",
     "collapsed": false,
     "input": [
      "\"\"\"\n",
      "Clone of 2048 game.\n",
      "\"\"\"\n",
      "\n",
      "#import poc_2048_gui\n",
      "import random\n",
      "# Directions, DO NOT MODIFY\n",
      "UP = 1\n",
      "DOWN = 2\n",
      "LEFT = 3\n",
      "RIGHT = 4\n",
      "\n",
      "# Offsets for computing tile indices in each direction.\n",
      "# DO NOT MODIFY this dictionary.\n",
      "OFFSETS = {UP: (1, 0),\n",
      "           DOWN: (-1, 0),\n",
      "           LEFT: (0, 1),\n",
      "           RIGHT: (0, -1)}\n",
      "\n",
      "\"\"\"\n",
      "Merge function for 2048 game.\n",
      "\"\"\"\n",
      "def merge(line):\n",
      "    \"\"\"\n",
      "    Function that merges a single row or column in 2048.\n",
      "    \"\"\"\n",
      "    result=[]\n",
      "    for temp in xrange(0,len(line)):\n",
      "        result.append(0)    \n",
      "    var=0\n",
      "    for temp in xrange(0,len(line)):\n",
      "        if line[temp]!=0:\n",
      "            result[var]=line[temp]\n",
      "            var+=1\n",
      "    for temp in xrange(var,len(line)):\n",
      "        result[temp]=0\n",
      "    for temp in xrange(1,var):\n",
      "        if result[temp]==result[temp-1]:\n",
      "            result[temp-1]*=2\n",
      "            result[temp]=0\n",
      "    var1=0\n",
      "    for temp in xrange(0,var):\n",
      "        if result[temp]!=0:\n",
      "            result[var1]=result[temp]\n",
      "            var1+=1\n",
      "    for temp in xrange(var1,len(result)):\n",
      "        result[temp]=0\n",
      "    return result\n",
      "\n",
      "class TwentyFortyEight:\n",
      "    \"\"\"\n",
      "    Class to run the game logic.\n",
      "    \"\"\"\n",
      "    height=0\n",
      "    width=0\n",
      "    def __init__(self, grid_height, grid_width):\n",
      "        # replace with your code\n",
      "        self.height=grid_height\n",
      "        self.width=grid_width\n",
      "        self.grid=[]\n",
      "        self.reset()\n",
      "        self.ini={}\n",
      "        lis=[]\n",
      "        lis1=[]\n",
      "        for ibb in range(self.width):\n",
      "            lis.append((0,ibb))\n",
      "            lis1.append((self.height-1,ibb))\n",
      "        self.ini[UP]=lis\n",
      "        self.ini[DOWN]=lis1\n",
      "        lis=[]\n",
      "        lis1=[]\n",
      "        for ibb in range(self.height):\n",
      "            lis.append((ibb,0))\n",
      "            lis1.append((ibb,self.width-1))\n",
      "        self.ini[LEFT]=lis\n",
      "        self.ini[RIGHT]=lis1\n",
      "        pass\n",
      "\n",
      "    def reset(self):\n",
      "        \"\"\"\n",
      "        Reset the game so the grid is empty except for two\n",
      "        initial tiles.\n",
      "        \"\"\"\n",
      "        # replace with your code\n",
      "        self.grid=[]\n",
      "        for ibb in xrange(self.height):\n",
      "            temp=[]\n",
      "            for jbb in xrange(self.width):\n",
      "                temp.append(0)\n",
      "            self.grid.append(temp)\n",
      "        self.new_tile()\n",
      "        self.new_tile()\n",
      "        pass\n",
      "\n",
      "    def __str__(self):\n",
      "        \"\"\"\n",
      "        Return a string representation of the grid for debugging.\n",
      "        \"\"\"\n",
      "        return str(self.grid)\n",
      "\n",
      "    def get_grid_height(self):\n",
      "        \"\"\"\n",
      "        Get the height of the board.\n",
      "        \"\"\"\n",
      "        return self.height\n",
      "\n",
      "    def get_grid_width(self):\n",
      "        \"\"\"\n",
      "        Get the width of the board.\n",
      "        \"\"\"\n",
      "        return self.width\n",
      "\n",
      "    def move(self, direction):\n",
      "        \"\"\"\n",
      "        Move all tiles in the given direction and add\n",
      "        a new tile if any tiles moved.\n",
      "        \"\"\"\n",
      "        lis=self.ini[direction]\n",
      "        tul=OFFSETS[direction]\n",
      "        dup=[]\n",
      "        for mohit in self.grid:\n",
      "            sup=[]\n",
      "            sup=mohit[:]\n",
      "            dup.append(sup)\n",
      "        for ibb in lis:\n",
      "            tmp=[]\n",
      "            plk=ibb[0]\n",
      "            plk1=ibb[1]\n",
      "            if direction==UP or direction==DOWN:\n",
      "                for jbb in xrange(self.height):\n",
      "                    tmp.append((plk,plk1))\n",
      "                    plk+=tul[0]\n",
      "                    plk1+=tul[1]\n",
      "            else:\n",
      "                for jbb in xrange(self.height):\n",
      "                    tmp.append((plk,plk1))\n",
      "                    plk+=tul[0]\n",
      "                    plk1+=tul[1]\n",
      "            man=[]\n",
      "            for jbb in tmp:\n",
      "                man.append(self.grid[jbb[0]][jbb[1]])\n",
      "            man=merge(man)\n",
      "            kpp=0\n",
      "            for jbb in tmp:\n",
      "                self.grid[jbb[0]][jbb[1]]=man[kpp]\n",
      "                kpp+=1\n",
      "        if self.grid!=dup:\n",
      "            self.new_tile()\n",
      "        pass\n",
      "\n",
      "    def new_tile(self):\n",
      "        \"\"\"\n",
      "        Create a new tile in a randomly selected empty\n",
      "        square.  The tile should be 2 90% of the time and\n",
      "        4 10% of the time.\n",
      "        \"\"\"\n",
      "        temp=20\n",
      "        while(temp!=0):\n",
      "            row=random.randrange(0,self.height)\n",
      "            col=random.randrange(0,self.width)\n",
      "            temp=self.grid[row][col]\n",
      "        prob=random.random()\n",
      "        if prob<0.9:\n",
      "            self.grid[row][col]=2\n",
      "        else:\n",
      "            self.grid[row][col]=4\n",
      "        pass\n",
      "\n",
      "    \n",
      "    def set_tile(self, row, col, value):\n",
      "        \"\"\"\n",
      "        Set the tile at position row, col to have the given value.\n",
      "        \"\"\"\n",
      "        self.grid[row][col]=value\n",
      "        pass\n",
      "\n",
      "    \n",
      "    def get_tile(self, row, col):\n",
      "        \"\"\"\n",
      "        Return the value of the tile at position row, col.\n",
      "        \"\"\"\n",
      "        return self.grid[row][col]\n",
      "\n",
      "#poc_2048_gui.run_gui(TwentyFortyEight(4, 4))"
     ],
     "language": "python",
     "metadata": {},
     "outputs": [],
     "prompt_number": 68
    },
    {
     "cell_type": "code",
     "collapsed": false,
     "input": [
      "p=TwentyFortyEight(4, 4)"
     ],
     "language": "python",
     "metadata": {},
     "outputs": [],
     "prompt_number": 69
    },
    {
     "cell_type": "code",
     "collapsed": false,
     "input": [
      "p.grid"
     ],
     "language": "python",
     "metadata": {},
     "outputs": [
      {
       "metadata": {},
       "output_type": "pyout",
       "prompt_number": 70,
       "text": [
        "[[2, 0, 0, 0], [0, 0, 0, 0], [0, 0, 0, 2], [0, 0, 0, 0]]"
       ]
      }
     ],
     "prompt_number": 70
    },
    {
     "cell_type": "code",
     "collapsed": false,
     "input": [
      "p.move(UP)"
     ],
     "language": "python",
     "metadata": {},
     "outputs": [],
     "prompt_number": 71
    },
    {
     "cell_type": "code",
     "collapsed": false,
     "input": [
      "p.grid"
     ],
     "language": "python",
     "metadata": {},
     "outputs": [
      {
       "metadata": {},
       "output_type": "pyout",
       "prompt_number": 72,
       "text": [
        "[[2, 0, 0, 2], [0, 2, 0, 0], [0, 0, 0, 0], [0, 0, 0, 0]]"
       ]
      }
     ],
     "prompt_number": 72
    },
    {
     "cell_type": "heading",
     "level": 1,
     "metadata": {},
     "source": [
      "Recursion"
     ]
    },
    {
     "cell_type": "code",
     "collapsed": false,
     "input": [
      "def rec(n):\n",
      "    if n==0:\n",
      "        return 1\n",
      "    return n*rec(n-1)"
     ],
     "language": "python",
     "metadata": {},
     "outputs": [],
     "prompt_number": 4
    },
    {
     "cell_type": "code",
     "collapsed": false,
     "input": [
      "s=input()\n",
      "w='ert'\n",
      "w[0]"
     ],
     "language": "python",
     "metadata": {},
     "outputs": [
      {
       "name": "stdout",
       "output_type": "stream",
       "stream": "stdout",
       "text": [
        "ple\n"
       ]
      },
      {
       "metadata": {},
       "output_type": "pyout",
       "prompt_number": 13,
       "text": [
        "'e'"
       ]
      }
     ],
     "prompt_number": 13
    },
    {
     "cell_type": "code",
     "collapsed": false,
     "input": [
      "\"\"\"\n",
      "Clone of 2048 game.\n",
      "\"\"\"\n",
      "\n",
      "#import poc_2048_gui\n",
      "import random\n",
      "# Directions, DO NOT MODIFY\n",
      "UP = 1\n",
      "DOWN = 2\n",
      "LEFT = 3\n",
      "RIGHT = 4\n",
      "\n",
      "# Offsets for computing tile indices in each direction.\n",
      "# DO NOT MODIFY this dictionary.\n",
      "OFFSETS = {UP: (1, 0),\n",
      "           DOWN: (-1, 0),\n",
      "           LEFT: (0, 1),\n",
      "           RIGHT: (0, -1)}\n",
      "\n",
      "\n",
      "def merge(line):\n",
      "    \"\"\"\n",
      "    Function that merges a single row or column in 2048.\n",
      "    \"\"\"\n",
      "    result=[]\n",
      "    for temp in xrange(0,len(line)):\n",
      "        result.append(0)    \n",
      "    var=0\n",
      "    for temp in xrange(0,len(line)):\n",
      "        if line[temp]!=0:\n",
      "            result[var]=line[temp]\n",
      "            var+=1\n",
      "    for temp in xrange(var,len(line)):\n",
      "        result[temp]=0\n",
      "    for temp in xrange(1,var):\n",
      "        if result[temp]==result[temp-1]:\n",
      "            result[temp-1]*=2\n",
      "            result[temp]=0\n",
      "    var1=0\n",
      "    for temp in xrange(0,var):\n",
      "        if result[temp]!=0:\n",
      "            result[var1]=result[temp]\n",
      "            var1+=1\n",
      "    for temp in xrange(var1,len(result)):\n",
      "        result[temp]=0\n",
      "    return result\n",
      "\n",
      "class TwentyFortyEight:\n",
      "    \"\"\"\n",
      "    Class to run the game logic.\n",
      "    \"\"\"\n",
      "    def __init__(self, grid_height, grid_width):\n",
      "        # replace with your code\n",
      "        self.Height=grid_height\n",
      "        self.width=grid_width\n",
      "        self.grid=[]\n",
      "        self.reset()\n",
      "        self.ini={}\n",
      "        lis=[]\n",
      "        lis1=[]\n",
      "        for ibb in range(self.width):\n",
      "            lis.append((0,ibb))\n",
      "            lis1.append((self.Height-1,ibb))\n",
      "        self.ini[UP]=lis\n",
      "        self.ini[DOWN]=lis1\n",
      "        lis=[]\n",
      "        lis1=[]\n",
      "        for ibb in range(self.Height):\n",
      "            lis.append((ibb,0))\n",
      "            lis1.append((ibb,self.width-1))\n",
      "        self.ini[LEFT]=lis\n",
      "        self.ini[RIGHT]=lis1\n",
      "       \n",
      "    def reset(self):\n",
      "        \"\"\"\n",
      "        Reset the game so the grid is empty except for two\n",
      "        initial tiles.\n",
      "        \"\"\"\n",
      "        # replace with your code\n",
      "        self.grid=[]\n",
      "        for ibb in xrange(self.Height):\n",
      "            if ibb<10000:\n",
      "                temp=[]    \n",
      "            for jbb in xrange(self.width):\n",
      "                if jbb<10000:\n",
      "                    temp.append(0)\n",
      "            self.grid.append(temp)\n",
      "        self.new_tile()\n",
      "        self.new_tile()\n",
      "\n",
      "    def __str__(self):\n",
      "        \"\"\"\n",
      "        Return a string representation of the grid for debugging.\n",
      "        \"\"\"\n",
      "        return str(self.grid)\n",
      "\n",
      "    def get_grid_height(self):\n",
      "        \"\"\"\n",
      "        Get the height of the board.\n",
      "        \"\"\"\n",
      "        return self.Height\n",
      "\n",
      "    def get_grid_width(self):\n",
      "        \"\"\"\n",
      "        Get the width of the board.\n",
      "        \"\"\"\n",
      "        return self.width\n",
      "\n",
      "    def move(self, direction):\n",
      "        \"\"\"\n",
      "        Move all tiles in the given direction and add\n",
      "        a new tile if any tiles moved.\n",
      "        \"\"\"\n",
      "        lis=self.ini[direction]\n",
      "        tul=OFFSETS[direction]\n",
      "        dup=[]\n",
      "        for mohit in self.grid:\n",
      "            sup=[]\n",
      "            sup=mohit[:]\n",
      "            dup.append(sup)\n",
      "        for ibb in lis:\n",
      "            tmp=[]\n",
      "            plk=ibb[0]\n",
      "            plk1=ibb[1]\n",
      "            if direction==UP or direction==DOWN:\n",
      "                for jbb in xrange(self.Height):\n",
      "                    tmp.append((plk,plk1))\n",
      "                    plk+=tul[0]\n",
      "                    plk1+=tul[1]\n",
      "            else:\n",
      "                for jbb in xrange(self.Height):\n",
      "                    tmp.append((plk,plk1))\n",
      "                    plk+=tul[0]\n",
      "                    plk1+=tul[1]\n",
      "            man=[]\n",
      "            for jbb in tmp:\n",
      "                man.append(self.grid[jbb[0]][jbb[1]])\n",
      "            man=merge(man)\n",
      "            kpp=0\n",
      "            for jbb in tmp:\n",
      "                self.grid[jbb[0]][jbb[1]]=man[kpp]\n",
      "                kpp+=1\n",
      "        if self.grid!=dup:\n",
      "            self.new_tile()\n",
      "\n",
      "    def new_tile(self):\n",
      "        \"\"\"\n",
      "        Create a new tile in a randomly selected empty\n",
      "        square.  The tile should be 2 90% of the time and\n",
      "        4 10% of the time.\n",
      "        \"\"\"\n",
      "        temp=20\n",
      "        while(temp!=0):\n",
      "            row=random.randrange(0,self.Height)\n",
      "            col=random.randrange(0,self.width)\n",
      "            temp=self.grid[row][col]\n",
      "        prob=random.random()\n",
      "        if prob<0.9:\n",
      "            self.grid[row][col]=2\n",
      "        else:\n",
      "            self.grid[row][col]=4\n",
      "    \n",
      "    def set_tile(self, row, col, value):\n",
      "        \"\"\"\n",
      "        Set the tile at position row, col to have the given value.\n",
      "        \"\"\"\n",
      "        self.grid[row][col]=value\n",
      "\n",
      "    \n",
      "    def get_tile(self, row, col):\n",
      "        \"\"\"\n",
      "        Return the value of the tile at position row, col.\n",
      "        \"\"\"\n",
      "        return self.grid[row][col]\n",
      "\n",
      "#poc_2048_gui.run_gui(TwentyFortyEight(4, 4))\n",
      "    "
     ],
     "language": "python",
     "metadata": {},
     "outputs": [],
     "prompt_number": 1
    },
    {
     "cell_type": "code",
     "collapsed": false,
     "input": [
      "p=TwentyFortyEight(4, 4)"
     ],
     "language": "python",
     "metadata": {},
     "outputs": [],
     "prompt_number": 6
    },
    {
     "cell_type": "code",
     "collapsed": false,
     "input": [
      "p.grid"
     ],
     "language": "python",
     "metadata": {},
     "outputs": [
      {
       "metadata": {},
       "output_type": "pyout",
       "prompt_number": 7,
       "text": [
        "[[0, 0, 0, 2], [0, 0, 0, 0], [0, 0, 2, 0], [0, 0, 0, 0]]"
       ]
      }
     ],
     "prompt_number": 7
    },
    {
     "cell_type": "code",
     "collapsed": false,
     "input": [
      "p.move(DOWN)"
     ],
     "language": "python",
     "metadata": {},
     "outputs": [],
     "prompt_number": 8
    },
    {
     "cell_type": "code",
     "collapsed": false,
     "input": [
      "p.grid"
     ],
     "language": "python",
     "metadata": {},
     "outputs": [
      {
       "metadata": {},
       "output_type": "pyout",
       "prompt_number": 9,
       "text": [
        "[[0, 0, 0, 0], [2, 0, 0, 0], [0, 0, 0, 0], [0, 0, 2, 2]]"
       ]
      }
     ],
     "prompt_number": 9
    },
    {
     "cell_type": "code",
     "collapsed": false,
     "input": [
      "res=[]\n",
      "res.insert(1,0)"
     ],
     "language": "python",
     "metadata": {},
     "outputs": [],
     "prompt_number": 29
    },
    {
     "cell_type": "code",
     "collapsed": false,
     "input": [
      "res"
     ],
     "language": "python",
     "metadata": {},
     "outputs": [
      {
       "metadata": {},
       "output_type": "pyout",
       "prompt_number": 30,
       "text": [
        "[0]"
       ]
      }
     ],
     "prompt_number": 30
    },
    {
     "cell_type": "code",
     "collapsed": false,
     "input": [
      "res.append(0)"
     ],
     "language": "python",
     "metadata": {},
     "outputs": [],
     "prompt_number": 31
    },
    {
     "cell_type": "code",
     "collapsed": false,
     "input": [
      "res"
     ],
     "language": "python",
     "metadata": {},
     "outputs": [
      {
       "metadata": {},
       "output_type": "pyout",
       "prompt_number": 32,
       "text": [
        "[0, 0]"
       ]
      }
     ],
     "prompt_number": 32
    },
    {
     "cell_type": "code",
     "collapsed": false,
     "input": [
      "\"\"\"\n",
      "Monte Carlo Tic-Tac-Toe Player\n",
      "\"\"\"\n",
      "\n",
      "import random\n",
      "import poc_ttt_gui\n",
      "import poc_ttt_provided as provided\n",
      "\n",
      "# Constants for Monte Carlo simulator\n",
      "# You may change the values of these constants as desired, but\n",
      "#  do not change their names.\n",
      "NTRIALS = 20         # Number of trials to run\n",
      "SCORE_CURRENT = 1.0 # Score for squares played by the current player\n",
      "SCORE_OTHER = 1.0   # Score for squares played by the other player\n",
      "    \n",
      "# Add your functions here.\n",
      "def mc_trial(board, player):\n",
      "    \"\"\"This Function is for completeing the board\"\"\"\n",
      "    while board.check_win() == None:\n",
      "        emp=board.get_empty_squares()\n",
      "        lis=random.choice(emp)\n",
      "        board.move(lis[0],lis[1],player)\n",
      "        if player==provided.PLAYERX:\n",
      "            player=provided.PLAYERO\n",
      "        else:\n",
      "            player=provided.PLAYERX\n",
      "    return board\n",
      "        \n",
      "def mc_update_scores(scores, board, player):\n",
      "    \"\"\"This function updates the board\"\"\"\n",
      "    winner=board.check_win()\n",
      "    if len(scores)==0:\n",
      "        for row in xrange(board.get_dim()):\n",
      "            lis=[]\n",
      "            for col in xrange(board.get_dim()):\n",
      "                lis.append(0)\n",
      "            scores.append(lis)\n",
      "    for row in xrange(board.get_dim()):\n",
      "        for col in xrange(board.get_dim()):\n",
      "            if winner==provided.DRAW:\n",
      "                scores[row][col]+=0\n",
      "            else:\n",
      "                const=board.square(row,col)\n",
      "                if const==provided.EMPTY:\n",
      "                    scores[row][col]+=0\n",
      "                elif const==winner:\n",
      "                    if player==winner:\n",
      "                        scores[row][col]+=SCORE_CURRENT\n",
      "                    else:\n",
      "                        scores[row][col]+=SCORE_OTHER\n",
      "                else:\n",
      "                    if player==winner:\n",
      "                        scores[row][col]-=SCORE_OTHER\n",
      "                    else:\n",
      "                        scores[row][col]-=SCORE_CURRENT\n",
      "            \n",
      "\n",
      "def get_best_move(board, scores):\n",
      "    \"\"\"This function updates the board\"\"\"\n",
      "    lis=board.get_empty_squares()\n",
      "    maximum=-100\n",
      "    if len(lis)==0:\n",
      "        return 0\n",
      "    else:\n",
      "        for tup in lis:\n",
      "            temp=scores[tup[0]][tup[1]]\n",
      "            if temp>=maximum:\n",
      "                maximum=temp\n",
      "        clue=[]\n",
      "        for tup in lis:\n",
      "            if scores[tup[0]][tup[1]]==maximum:\n",
      "                clue.append(tup)\n",
      "        return random.choice(clue)\n",
      "        \n",
      "        \n",
      "def mc_move(board, player, trials):\n",
      "    \"\"\"This function updates the board\"\"\"\n",
      "    score=[]\n",
      "    for _ in range(trials):\n",
      "        new_board=board.clone()\n",
      "        new_board=mc_trial(new_board,player)\n",
      "        mc_update_scores(score,new_board,player)\n",
      "    return get_best_move(board,score)\n",
      "\n",
      "\n",
      "# Test game with the console or the GUI.  Uncomment whichever \n",
      "# you prefer.  Both should be commented out when you submit \n",
      "# for testing to save time.\n",
      "\n",
      "provided.play_game(mc_move, NTRIALS, False)        \n",
      "poc_ttt_gui.run_gui(3, provided.PLAYERX, mc_move, NTRIALS, False)\n",
      "    "
     ],
     "language": "python",
     "metadata": {},
     "outputs": []
    },
    {
     "cell_type": "code",
     "collapsed": false,
     "input": [
      "def O(p,k,j):\n",
      "    if j==0:\n",
      "        return 0\n",
      "    elif p[j-1][1]<=k:\n",
      "        return max(O(p,k,j-1),p[j-1][0]+O(p,k-p[j-1][1],j-1))\n",
      "    else:\n",
      "        return O(p,k,j-1)"
     ],
     "language": "python",
     "metadata": {},
     "outputs": [],
     "prompt_number": 2
    },
    {
     "cell_type": "code",
     "collapsed": false,
     "input": [
      "#from __future__ import print_function\n",
      "s=map(int,raw_input().split())\n",
      "p=[]\n",
      "for i in xrange(s[0]):\n",
      "    p.append(map(int,raw_input().split()))\n",
      "t=s[1]\n",
      "k=s[0]\n",
      "ror=0\n",
      "lis=[]\n",
      "while t!=0 or k!=0:\n",
      "    if O(p,t,k)==O(p,t,k-1):\n",
      "        k-=1\n",
      "    else:\n",
      "        wt=O(p,t,k)-p[k-1][0]\n",
      "        for j in xrange(t+1):\n",
      "            if O(p,j,k-1)==wt:\n",
      "                break\n",
      "        lis.append(k-1)\n",
      "        t=j\n",
      "        k-=1\n",
      "    ror+=1\n",
      "    if ror==20:\n",
      "        break\n",
      "wt=0\n",
      "for i in lis:\n",
      "    wt+=p[i][1]\n",
      "print '%d %d' % (O(p,s[1],s[0]),s[1]-wt)\n",
      "for i in xrange(s[0]):\n",
      "    if i in lis:\n",
      "        print 1,\n",
      "    else:\n",
      "        print 0,"
     ],
     "language": "python",
     "metadata": {},
     "outputs": [
      {
       "name": "stdout",
       "output_type": "stream",
       "stream": "stdout",
       "text": [
        "3 9\n"
       ]
      },
      {
       "name": "stdout",
       "output_type": "stream",
       "stream": "stdout",
       "text": [
        "12 4\n"
       ]
      },
      {
       "name": "stdout",
       "output_type": "stream",
       "stream": "stdout",
       "text": [
        "8 8\n"
       ]
      },
      {
       "name": "stdout",
       "output_type": "stream",
       "stream": "stdout",
       "text": [
        "14 5\n"
       ]
      },
      {
       "output_type": "stream",
       "stream": "stdout",
       "text": [
        "26 0\n",
        "1 0 1\n"
       ]
      }
     ],
     "prompt_number": 4
    },
    {
     "cell_type": "code",
     "collapsed": false,
     "input": [
      "def gen_all_sequences(outcomes,length):\n",
      "    ans=set([()])\n",
      "    for _ in range(length):\n",
      "        temp=set()\n",
      "        for seq in ans:\n",
      "            for item in outcomes:\n",
      "                new_seq=list(seq)\n",
      "                new_seq.append(item)\n",
      "                temp.add(tuple(new_seq))\n",
      "        ans=temp\n",
      "    return ans\n",
      "\n",
      "outcomes=set([0,1,2,3])\n",
      "length=3\n",
      "p=gen_all_sequences(outcomes,length)\n",
      "s=[tuple(sorted(l)) for l in p]\n",
      "print len(set(s))\n",
      "print  len(p)"
     ],
     "language": "python",
     "metadata": {},
     "outputs": [
      {
       "output_type": "stream",
       "stream": "stdout",
       "text": [
        "20\n",
        "64\n"
       ]
      }
     ],
     "prompt_number": 3
    },
    {
     "cell_type": "code",
     "collapsed": false,
     "input": [],
     "language": "python",
     "metadata": {},
     "outputs": []
    }
   ],
   "metadata": {}
  }
 ]
}